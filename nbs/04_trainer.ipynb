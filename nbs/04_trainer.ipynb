{
 "cells": [
  {
   "attachments": {},
   "cell_type": "markdown",
   "metadata": {},
   "source": [
    "# Trainer\n",
    "\n",
    "> RLHF Trainer"
   ]
  },
  {
   "cell_type": "code",
   "execution_count": 2,
   "metadata": {},
   "outputs": [],
   "source": [
    "#| default_exp trainer"
   ]
  },
  {
   "cell_type": "code",
   "execution_count": 3,
   "metadata": {},
   "outputs": [],
   "source": [
    "#| hide\n",
    "from nbdev.showdoc import *"
   ]
  },
  {
   "cell_type": "code",
   "execution_count": 4,
   "metadata": {},
   "outputs": [],
   "source": [
    "#| hide\n",
    "import nbdev; nbdev.nbdev_export()"
   ]
  },
  {
   "cell_type": "code",
   "execution_count": 3,
   "metadata": {},
   "outputs": [],
   "source": [
    "#| export\n",
    "from typing import Callable, Tuple\n",
    "\n",
    "import torch\n",
    "from torchtyping import TensorType\n",
    "from einops import rearrange\n",
    "\n",
    "from transformers import PreTrainedModel\n",
    "\n",
    "from instruct_goose.utils import RLHFConfig"
   ]
  },
  {
   "attachments": {},
   "cell_type": "markdown",
   "metadata": {},
   "source": [
    "$L_t^{C L I P+V F+S}(\\theta)=\\hat{\\mathbb{E}}_t\\left[L_t^{C L I P}(\\theta)-c_1 L_t^{V F}(\\theta)+c_2 S\\left[\\pi_\\theta\\right]\\left(s_t\\right)\\right]$\n",
    "\n",
    "$L^{C L I P}(\\theta)=\\hat{\\mathbb{E}}_t\\left[\\min \\left(r_t(\\theta) \\hat{A}_t, \\operatorname{clip}\\left(r_t(\\theta), 1-\\epsilon, 1+\\epsilon\\right) \\hat{A}_t\\right)\\right]$\n",
    "\n",
    "$\\frac{\\pi_\\theta\\left(a_t \\mid s_t\\right)}{\\pi_{\\theta_{\\text {old }}}\\left(a_t \\mid s_t\\right)} = \\log(\\pi_\\theta\\left(a_t \\mid s_t\\right)) - \\log(\\pi_{\\theta_{\\text {old }}}\\left(a_t \\mid s_t\\right))$\n",
    "\n",
    "$r_t(\\theta)=\\frac{\\pi_\\theta\\left(a_t \\mid s_t\\right)}{\\pi_{\\theta_{\\text {old }}}\\left(a_t \\mid s_t\\right)}$"
   ]
  },
  {
   "cell_type": "code",
   "execution_count": 2,
   "metadata": {},
   "outputs": [],
   "source": [
    "#| export\n",
    "class RLHFTrainer:\n",
    "    def __init__(\n",
    "        self,\n",
    "        model: PreTrainedModel, # A pre-trained language model\n",
    "        ref_model: PreTrainedModel, # A a reference model \n",
    "        config: RLHFConfig,\n",
    "    ):\n",
    "        self.model = model\n",
    "        self.ref_model = ref_model\n",
    "        self.epsilon = config.epsilon\n",
    "        self.ent_coef = config.ent_coef\n",
    "        self.vf_coef = config.vf_coef\n",
    "    \n",
    "    @classmethod\n",
    "    def compute_advantage_and_return(\n",
    "        self,\n",
    "        rewards: TensorType[\"batch_size\"], # A list of reward values\n",
    "        values: TensorType[\"batch_size\"] # A list of predicted values from agent's value network\n",
    "    ) -> Tuple[TensorType[\"batch_size\"], TensorType[\"batch_size\"]]: # The advantages and returns\n",
    "        \"\"\"Calculate the advantages and returns.\"\"\"\n",
    "        # copied from https://github.com/lvwerra/trl/blob/d2e8bcf8373726fb92d2110c500f7df6d0bd566d/trl/trainer/ppo_trainer.py#L686\n",
    "        rewards = rearrange(rewards, 'b -> 1 b')\n",
    "        values = rearrange(values, 'b -> 1 b')\n",
    "        \n",
    "        lastgaelam = 0\n",
    "        advantages_reversed = []\n",
    "        gen_len = len(rewards)\n",
    "        \n",
    "        gamma = 1\n",
    "        lam = 0.95\n",
    "\n",
    "        for t in reversed(range(gen_len)):\n",
    "            nextvalues = values[:, t + 1] if t < gen_len - 1 else 0.0\n",
    "            delta = rewards[:, t] + gamma * nextvalues - values[:, t]\n",
    "            lastgaelam = delta + gamma * lam * lastgaelam\n",
    "            advantages_reversed.append(lastgaelam)\n",
    "\n",
    "        advantages = torch.stack(advantages_reversed[::-1]).transpose(0, 1)\n",
    "        returns = advantages + values\n",
    "\n",
    "        advantages = rearrange(advantages, '1 b -> b')\n",
    "        returns = rearrange(returns, '1 b -> b')\n",
    "        \n",
    "        return advantages, returns\n",
    "\n",
    "    def compute_loss(\n",
    "        self,\n",
    "        query_ids: TensorType[\"batch_size\", \"seq_len\"],\n",
    "        query_attention_mask: TensorType[\"batch_size\", \"seq_len\"],\n",
    "        response_ids: TensorType[\"batch_size\", \"seq_len\"],\n",
    "        response_attention_mask: TensorType[\"batch_size\", \"seq_len\"],\n",
    "        rewards: TensorType[\"batch_size\"],\n",
    "    ) -> TensorType[\"1\"]:\n",
    "        \"\"\"Calculate PPO's loss.\"\"\"\n",
    "        logprobs, values, entropies, ref_logprobs = self.forward(\n",
    "            query_ids=query_ids,\n",
    "            query_attention_mask=query_attention_mask,\n",
    "            response_ids=response_ids,\n",
    "            response_attention_mask=response_attention_mask\n",
    "        )\n",
    "        \n",
    "        ratio = (logprobs - ref_logprobs).exp()\n",
    "        clipped_ratio = torch.clamp(ratio, min=1-self.epsilon, max=1+self.epsilon)\n",
    "        \n",
    "        advantages, returns = self.compute_advantage_and_return(rewards, values)\n",
    "        value_loss = (values - returns).pow(2).mean()\n",
    "        \n",
    "        pg_loss_1 = ratio * advantages\n",
    "        pg_loss_2 = ratio * clipped_ratio\n",
    "        pg_loss = torch.min(pg_loss_1, pg_loss_2).mean()\n",
    "        \n",
    "        loss = pg_loss - self.ent_coef * entropies.mean() + self.vf_coef * value_loss\n",
    "        return loss\n",
    "    \n",
    "    def forward(\n",
    "        self,\n",
    "        query_ids: TensorType[\"batch_size\", \"seq_len\"],\n",
    "        query_attention_mask: TensorType[\"batch_size\", \"seq_len\"],\n",
    "        response_ids: TensorType[\"batch_size\", \"seq_len\"],\n",
    "        response_attention_mask: TensorType[\"batch_size\", \"seq_len\"]\n",
    "    ) -> Tuple[\n",
    "        TensorType[\"batch_size\"], # main model's logprobs\n",
    "        TensorType[\"batch_size\"], # entropy\n",
    "        TensorType[\"batch_size\"], # value\n",
    "        TensorType[\"batch_size\"], # reference model's log prob\n",
    "    ]:\n",
    "        input_ids = torch.cat([query_ids, response_ids], dim=1)\n",
    "        attention_mask = torch.cat([query_attention_mask, response_attention_mask], dim=1)\n",
    "        \n",
    "        _, logprobs, entropy, value = self.model(\n",
    "            input_ids=input_ids,\n",
    "            attention_mask=attention_mask\n",
    "        )\n",
    "        _, ref_logprob, _, _ = self.ref_model(\n",
    "            input_ids=input_ids,\n",
    "            attention_mask=attention_mask   \n",
    "        )\n",
    "            \n",
    "        return logprobs, entropy, value, ref_logprob"
   ]
  },
  {
   "cell_type": "code",
   "execution_count": null,
   "metadata": {},
   "outputs": [
    {
     "data": {
      "text/markdown": [
       "---\n",
       "\n",
       "### RLHFTrainer\n",
       "\n",
       ">      RLHFTrainer (model:Callable, ref_model:Callable, config)\n",
       "\n",
       "Initialize self.  See help(type(self)) for accurate signature.\n",
       "\n",
       "|    | **Type** | **Details** |\n",
       "| -- | -------- | ----------- |\n",
       "| model | Callable | A pre-trained language model |\n",
       "| ref_model | Callable | A a reference model |\n",
       "| config |  |  |"
      ],
      "text/plain": [
       "---\n",
       "\n",
       "### RLHFTrainer\n",
       "\n",
       ">      RLHFTrainer (model:Callable, ref_model:Callable, config)\n",
       "\n",
       "Initialize self.  See help(type(self)) for accurate signature.\n",
       "\n",
       "|    | **Type** | **Details** |\n",
       "| -- | -------- | ----------- |\n",
       "| model | Callable | A pre-trained language model |\n",
       "| ref_model | Callable | A a reference model |\n",
       "| config |  |  |"
      ]
     },
     "execution_count": null,
     "metadata": {},
     "output_type": "execute_result"
    }
   ],
   "source": [
    "show_doc(RLHFTrainer)"
   ]
  },
  {
   "cell_type": "code",
   "execution_count": null,
   "metadata": {},
   "outputs": [
    {
     "data": {
      "text/markdown": [
       "---\n",
       "\n",
       "### RLHFTrainer.compute_loss\n",
       "\n",
       ">      RLHFTrainer.compute_loss (queries:typing.Annotated[torch.Tensor,{'__torch\n",
       ">                                typing__':True,'details':('batch_size','seq_len\n",
       ">                                ',),'cls_name':'TensorType'}], responses:typing\n",
       ">                                .Annotated[torch.Tensor,{'__torchtyping__':True\n",
       ">                                ,'details':('batch_size','seq_len',),'cls_name'\n",
       ">                                :'TensorType'}], rewards:typing.Annotated[torch\n",
       ">                                .Tensor,{'__torchtyping__':True,'details':('bat\n",
       ">                                ch_size',),'cls_name':'TensorType'}])\n",
       "\n",
       "Calculate PPO's loss."
      ],
      "text/plain": [
       "---\n",
       "\n",
       "### RLHFTrainer.compute_loss\n",
       "\n",
       ">      RLHFTrainer.compute_loss (queries:typing.Annotated[torch.Tensor,{'__torch\n",
       ">                                typing__':True,'details':('batch_size','seq_len\n",
       ">                                ',),'cls_name':'TensorType'}], responses:typing\n",
       ">                                .Annotated[torch.Tensor,{'__torchtyping__':True\n",
       ">                                ,'details':('batch_size','seq_len',),'cls_name'\n",
       ">                                :'TensorType'}], rewards:typing.Annotated[torch\n",
       ">                                .Tensor,{'__torchtyping__':True,'details':('bat\n",
       ">                                ch_size',),'cls_name':'TensorType'}])\n",
       "\n",
       "Calculate PPO's loss."
      ]
     },
     "execution_count": null,
     "metadata": {},
     "output_type": "execute_result"
    }
   ],
   "source": [
    "show_doc(RLHFTrainer.compute_loss)"
   ]
  }
 ],
 "metadata": {
  "kernelspec": {
   "display_name": "env",
   "language": "python",
   "name": "python3"
  },
  "language_info": {
   "codemirror_mode": {
    "name": "ipython",
    "version": 3
   },
   "file_extension": ".py",
   "mimetype": "text/x-python",
   "name": "python",
   "nbconvert_exporter": "python",
   "pygments_lexer": "ipython3",
   "version": "3.10.6"
  }
 },
 "nbformat": 4,
 "nbformat_minor": 2
}
